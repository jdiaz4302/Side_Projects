{
 "cells": [
  {
   "cell_type": "markdown",
   "metadata": {},
   "source": [
    "# Set up"
   ]
  },
  {
   "cell_type": "markdown",
   "metadata": {},
   "source": [
    "Importing necessary libraries"
   ]
  },
  {
   "cell_type": "code",
   "execution_count": 1,
   "metadata": {},
   "outputs": [],
   "source": [
    "import pandas as pd\n",
    "from IPython.display import Markdown as md"
   ]
  },
  {
   "cell_type": "markdown",
   "metadata": {},
   "source": [
    "Setting the parameters: the city, state and zip code"
   ]
  },
  {
   "cell_type": "code",
   "execution_count": 2,
   "metadata": {},
   "outputs": [],
   "source": [
    "# Parameters\n",
    "city = 'Boulder'\n",
    "state = 'CO'\n",
    "zipcode = '80310'"
   ]
  },
  {
   "cell_type": "markdown",
   "metadata": {},
   "source": [
    "# Data retrieval and preparation"
   ]
  },
  {
   "cell_type": "markdown",
   "metadata": {},
   "source": [
    "Importing and cleaning the 10-day weather forecast for the specified parameters"
   ]
  },
  {
   "cell_type": "code",
   "execution_count": 3,
   "metadata": {},
   "outputs": [],
   "source": [
    "# Creating the 10-day weather.com URL from the parameters\n",
    "weather_URL = 'https://weather.com/weather/tenday/l/' + city + '+' + state + '+' + zipcode\n",
    "\n",
    "# Reading the forecast into a Pandas DataFrame\n",
    "weather_df = pd.read_html(weather_URL)[0]\n",
    "\n",
    "## Fixing the wonky default columns\n",
    "# Storing the original column names\n",
    "new_columns = weather_df.columns\n",
    "# Omitting the messed up column name\n",
    "new_columns = new_columns[:-1]\n",
    "# Making the Pandas Series into a bare-bone list\n",
    "new_columns = new_columns.tolist()\n",
    "\n",
    "# Dropping the improperly alligned \"Day\" column\n",
    "weather_df = weather_df.drop(columns = 'Day')\n",
    "# Assiging the proper column names\n",
    "weather_df.columns = new_columns"
   ]
  },
  {
   "cell_type": "markdown",
   "metadata": {},
   "source": [
    "Let's make sure that it looks right"
   ]
  },
  {
   "cell_type": "code",
   "execution_count": 4,
   "metadata": {},
   "outputs": [
    {
     "data": {
      "text/html": [
       "<div>\n",
       "<style scoped>\n",
       "    .dataframe tbody tr th:only-of-type {\n",
       "        vertical-align: middle;\n",
       "    }\n",
       "\n",
       "    .dataframe tbody tr th {\n",
       "        vertical-align: top;\n",
       "    }\n",
       "\n",
       "    .dataframe thead th {\n",
       "        text-align: right;\n",
       "    }\n",
       "</style>\n",
       "<table border=\"1\" class=\"dataframe\">\n",
       "  <thead>\n",
       "    <tr style=\"text-align: right;\">\n",
       "      <th></th>\n",
       "      <th>Day</th>\n",
       "      <th>Description</th>\n",
       "      <th>High / Low</th>\n",
       "      <th>Precip</th>\n",
       "      <th>Wind</th>\n",
       "      <th>Humidity</th>\n",
       "    </tr>\n",
       "  </thead>\n",
       "  <tbody>\n",
       "    <tr>\n",
       "      <th>0</th>\n",
       "      <td>Tonight JUN 24</td>\n",
       "      <td>Isolated Thunderstorms</td>\n",
       "      <td>--51°</td>\n",
       "      <td>30%</td>\n",
       "      <td>SW 10 mph</td>\n",
       "      <td>66%</td>\n",
       "    </tr>\n",
       "    <tr>\n",
       "      <th>1</th>\n",
       "      <td>MonJUN 25</td>\n",
       "      <td>Sunny</td>\n",
       "      <td>83°59°</td>\n",
       "      <td>0%</td>\n",
       "      <td>ESE 6 mph</td>\n",
       "      <td>38%</td>\n",
       "    </tr>\n",
       "    <tr>\n",
       "      <th>2</th>\n",
       "      <td>TueJUN 26</td>\n",
       "      <td>Sunny</td>\n",
       "      <td>94°63°</td>\n",
       "      <td>0%</td>\n",
       "      <td>NW 6 mph</td>\n",
       "      <td>20%</td>\n",
       "    </tr>\n",
       "    <tr>\n",
       "      <th>3</th>\n",
       "      <td>Wed JUN 27</td>\n",
       "      <td>Mostly Sunny</td>\n",
       "      <td>92°63°</td>\n",
       "      <td>0%</td>\n",
       "      <td>SE 5 mph</td>\n",
       "      <td>22%</td>\n",
       "    </tr>\n",
       "    <tr>\n",
       "      <th>4</th>\n",
       "      <td>Thu JUN 28</td>\n",
       "      <td>Mostly Sunny</td>\n",
       "      <td>98°62°</td>\n",
       "      <td>0%</td>\n",
       "      <td>WSW 9 mph</td>\n",
       "      <td>17%</td>\n",
       "    </tr>\n",
       "    <tr>\n",
       "      <th>5</th>\n",
       "      <td>Fri JUN 29</td>\n",
       "      <td>Partly Cloudy</td>\n",
       "      <td>90°61°</td>\n",
       "      <td>0%</td>\n",
       "      <td>SE 7 mph</td>\n",
       "      <td>19%</td>\n",
       "    </tr>\n",
       "    <tr>\n",
       "      <th>6</th>\n",
       "      <td>Sat JUN 30</td>\n",
       "      <td>PM Thunderstorms</td>\n",
       "      <td>81°56°</td>\n",
       "      <td>40%</td>\n",
       "      <td>E 6 mph</td>\n",
       "      <td>37%</td>\n",
       "    </tr>\n",
       "    <tr>\n",
       "      <th>7</th>\n",
       "      <td>Sun JUL 1</td>\n",
       "      <td>Mostly Sunny</td>\n",
       "      <td>82°56°</td>\n",
       "      <td>10%</td>\n",
       "      <td>E 6 mph</td>\n",
       "      <td>35%</td>\n",
       "    </tr>\n",
       "    <tr>\n",
       "      <th>8</th>\n",
       "      <td>Mon JUL 2</td>\n",
       "      <td>Mostly Sunny</td>\n",
       "      <td>88°59°</td>\n",
       "      <td>10%</td>\n",
       "      <td>ESE 6 mph</td>\n",
       "      <td>28%</td>\n",
       "    </tr>\n",
       "    <tr>\n",
       "      <th>9</th>\n",
       "      <td>Tue JUL 3</td>\n",
       "      <td>Mostly Sunny</td>\n",
       "      <td>90°61°</td>\n",
       "      <td>10%</td>\n",
       "      <td>NE 7 mph</td>\n",
       "      <td>24%</td>\n",
       "    </tr>\n",
       "    <tr>\n",
       "      <th>10</th>\n",
       "      <td>Wed JUL 4</td>\n",
       "      <td>Partly Cloudy</td>\n",
       "      <td>88°61°</td>\n",
       "      <td>20%</td>\n",
       "      <td>SE 6 mph</td>\n",
       "      <td>29%</td>\n",
       "    </tr>\n",
       "    <tr>\n",
       "      <th>11</th>\n",
       "      <td>Thu JUL 5</td>\n",
       "      <td>Partly Cloudy</td>\n",
       "      <td>88°62°</td>\n",
       "      <td>20%</td>\n",
       "      <td>ENE 6 mph</td>\n",
       "      <td>33%</td>\n",
       "    </tr>\n",
       "    <tr>\n",
       "      <th>12</th>\n",
       "      <td>Fri JUL 6</td>\n",
       "      <td>Partly Cloudy</td>\n",
       "      <td>88°62°</td>\n",
       "      <td>20%</td>\n",
       "      <td>E 8 mph</td>\n",
       "      <td>34%</td>\n",
       "    </tr>\n",
       "    <tr>\n",
       "      <th>13</th>\n",
       "      <td>Sat JUL 7</td>\n",
       "      <td>Partly Cloudy</td>\n",
       "      <td>88°62°</td>\n",
       "      <td>20%</td>\n",
       "      <td>E 7 mph</td>\n",
       "      <td>35%</td>\n",
       "    </tr>\n",
       "    <tr>\n",
       "      <th>14</th>\n",
       "      <td>Sun JUL 8</td>\n",
       "      <td>Isolated Thunderstorms</td>\n",
       "      <td>87°62°</td>\n",
       "      <td>30%</td>\n",
       "      <td>ENE 8 mph</td>\n",
       "      <td>39%</td>\n",
       "    </tr>\n",
       "  </tbody>\n",
       "</table>\n",
       "</div>"
      ],
      "text/plain": [
       "               Day             Description High / Low Precip       Wind  \\\n",
       "0   Tonight JUN 24  Isolated Thunderstorms      --51°    30%  SW 10 mph   \n",
       "1        MonJUN 25                   Sunny     83°59°     0%  ESE 6 mph   \n",
       "2        TueJUN 26                   Sunny     94°63°     0%   NW 6 mph   \n",
       "3       Wed JUN 27            Mostly Sunny     92°63°     0%   SE 5 mph   \n",
       "4       Thu JUN 28            Mostly Sunny     98°62°     0%  WSW 9 mph   \n",
       "5       Fri JUN 29           Partly Cloudy     90°61°     0%   SE 7 mph   \n",
       "6       Sat JUN 30        PM Thunderstorms     81°56°    40%    E 6 mph   \n",
       "7        Sun JUL 1            Mostly Sunny     82°56°    10%    E 6 mph   \n",
       "8        Mon JUL 2            Mostly Sunny     88°59°    10%  ESE 6 mph   \n",
       "9        Tue JUL 3            Mostly Sunny     90°61°    10%   NE 7 mph   \n",
       "10       Wed JUL 4           Partly Cloudy     88°61°    20%   SE 6 mph   \n",
       "11       Thu JUL 5           Partly Cloudy     88°62°    20%  ENE 6 mph   \n",
       "12       Fri JUL 6           Partly Cloudy     88°62°    20%    E 8 mph   \n",
       "13       Sat JUL 7           Partly Cloudy     88°62°    20%    E 7 mph   \n",
       "14       Sun JUL 8  Isolated Thunderstorms     87°62°    30%  ENE 8 mph   \n",
       "\n",
       "   Humidity  \n",
       "0       66%  \n",
       "1       38%  \n",
       "2       20%  \n",
       "3       22%  \n",
       "4       17%  \n",
       "5       19%  \n",
       "6       37%  \n",
       "7       35%  \n",
       "8       28%  \n",
       "9       24%  \n",
       "10      29%  \n",
       "11      33%  \n",
       "12      34%  \n",
       "13      35%  \n",
       "14      39%  "
      ]
     },
     "execution_count": 4,
     "metadata": {},
     "output_type": "execute_result"
    }
   ],
   "source": [
    "# Printing the cleaned Pandas DataFrame\n",
    "weather_df"
   ]
  },
  {
   "cell_type": "markdown",
   "metadata": {},
   "source": [
    "# Getting tomorrow's forecast"
   ]
  },
  {
   "cell_type": "markdown",
   "metadata": {},
   "source": [
    "Defining a function to get all the information we want"
   ]
  },
  {
   "cell_type": "code",
   "execution_count": 5,
   "metadata": {},
   "outputs": [],
   "source": [
    "def print_tomorrows_weather(ten_day_table):\n",
    "    \n",
    "    # Getting tomorrow\n",
    "    tomorrow_row = ten_day_table.iloc[1]\n",
    "    \n",
    "    # Temperature high and low\n",
    "    tomorrow_temp_unformatted = tomorrow_row[2]\n",
    "    tomorrow_temp_list = tomorrow_temp_unformatted.split('°')\n",
    "    tomorrow_temp_high = tomorrow_temp_list[0]\n",
    "    tomorrow_temp_low = tomorrow_temp_list[1]\n",
    "    \n",
    "    # Chance of rain\n",
    "    tomorrow_rain_chance = tomorrow_row[3]\n",
    "    \n",
    "    # Humidity\n",
    "    tomorrow_humidity = tomorrow_row[5]\n",
    "    \n",
    "    # Description\n",
    "    tomorrow_descr = tomorrow_row[1]\n",
    "    \n",
    "    return(tomorrow_temp_high, tomorrow_temp_low,\n",
    "           tomorrow_rain_chance, tomorrow_humidity,\n",
    "           tomorrow_descr)"
   ]
  },
  {
   "cell_type": "markdown",
   "metadata": {},
   "source": [
    "Executing that function to retrieve the desired information"
   ]
  },
  {
   "cell_type": "code",
   "execution_count": 6,
   "metadata": {},
   "outputs": [],
   "source": [
    "high, low, rain, humidity, descr = print_tomorrows_weather(weather_df)"
   ]
  },
  {
   "cell_type": "markdown",
   "metadata": {},
   "source": [
    "# Results"
   ]
  },
  {
   "cell_type": "code",
   "execution_count": 7,
   "metadata": {},
   "outputs": [
    {
     "data": {
      "text/markdown": [
       "<br>**Tommorow's Weather Report for:**<br>Boulder<br><br>***Overall Description***<br>For tomorrow, expect: Sunny<br><br>***Temperature***<br>Tomorrow's high is 83°F<br>The low will be 59°F<br><br>***Precipitation***<br>The chance of rain is 0%<br><br>***Humidity***<br>And as for the mugginess, the humidity will be 38%"
      ],
      "text/plain": [
       "<IPython.core.display.Markdown object>"
      ]
     },
     "execution_count": 7,
     "metadata": {},
     "output_type": "execute_result"
    }
   ],
   "source": [
    "md(\"<br>**Tommorow's Weather Report for:**<br>\" + city +\n",
    "   \"<br><br>***Overall Description***<br>For tomorrow, expect: \" + descr +\n",
    "   \"<br><br>***Temperature***<br>Tomorrow's high is \" + high + \"°F<br>\" +\n",
    "   \"The low will be \" + low + \"°F<br><br>\" +\n",
    "   \"***Precipitation***<br>The chance of rain is \" + rain +\n",
    "   \"<br><br>***Humidity***<br>And as for the mugginess, the humidity will be \" + humidity)"
   ]
  }
 ],
 "metadata": {
  "kernelspec": {
   "display_name": "Python 3",
   "language": "python",
   "name": "python3"
  },
  "language_info": {
   "codemirror_mode": {
    "name": "ipython",
    "version": 3
   },
   "file_extension": ".py",
   "mimetype": "text/x-python",
   "name": "python",
   "nbconvert_exporter": "python",
   "pygments_lexer": "ipython3",
   "version": "3.6.3"
  }
 },
 "nbformat": 4,
 "nbformat_minor": 2
}
